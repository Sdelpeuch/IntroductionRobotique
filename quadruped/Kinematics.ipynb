{
 "cells": [
  {
   "cell_type": "markdown",
   "metadata": {},
   "source": [
    "# Cinématique "
   ]
  },
  {
   "cell_type": "markdown",
   "metadata": {},
   "source": [
    "# Outils mathématiques...\n",
    "\n",
    "## Coordonnées cartésiennes et polaires\n",
    "\n",
    "Un point $A$ peut être identifié par sa position cartésienne $x, y$ ou polaire $r, \\theta$. Les formules de conversions sont alors les suivantes:\n",
    "\n",
    "<img src=\"img/cart_pol.png\" width=300 />\n",
    "\n",
    "\n",
    "## Loi des cosinus\n",
    "\n",
    "Dans un triangle **quelconque**, dont les côtés mesurent $a$, $b$ et $c$ et les angles sont $\\alpha$, $\\beta$ et $\\gamma$, comme sur la figure suivante:\n",
    "\n",
    "<img src=\"img/al-kashi.png\" width=200>\n",
    "\n",
    "Dans ce cas, on peut utiliser les égalités suivantes:\n",
    "\n",
    "$$c^2 = a^2 + b^2 - 2ab cos \\gamma$$\n",
    "\n",
    "$$\\gamma = arccos \\frac{a^2 + b^2 - c^2}{2ab}$$\n",
    "\n",
    "Autrement dit, à partir du moment ou trois des six valeurs ($a$, $b$, $c$, $\\alpha$, $\\beta$, $\\gamma$) sont connues, il est possible de retrouver toutes les autres.\n",
    "    \n",
    "    \n",
    "https://fr.wikipedia.org/wiki/Loi_des_cosinus"
   ]
  },
  {
   "cell_type": "markdown",
   "metadata": {},
   "source": [
    "# Une patte du robot\n",
    "\n",
    "### Le problème géométrique\n",
    "\n",
    "<img src=\"img/rrr.png\" width=400>\n",
    "\n",
    "$$l_1 = 45 mm, l_2 = 65 mm, l_3 = 87 mm$$\n"
   ]
  },
  {
   "cell_type": "markdown",
   "metadata": {},
   "source": [
    "# Implémentation dans le projet\n",
    "\n",
    "## Modèle direct\n",
    "\n",
    "Dans `control.py`, implémentez le mode `direct`. Vous pouvez tester avec `python simulator.py -m direct`.\n",
    "\n",
    "## Modèle inverse\n",
    "\n",
    "Dans `control.py`, implémentez maintenant le code de la fonction `inverse`, de telle manière à pouvoir contrôler le bout de la patte à l'aide des sliders lorsque vous lancez le programme avec.\n",
    "\n",
    "`python simulator.py -m inverse`\n",
    "\n",
    "La cible rouge indique la position cible. Si votre code fonctionne, le bout de la patte est donc supposé atteindre la cible.\n",
    "\n",
    "<img src=\"img/target_xyz.png\" width=300 />"
   ]
  }
 ],
 "metadata": {
  "kernelspec": {
   "display_name": "Python 3",
   "language": "python",
   "name": "python3"
  },
  "language_info": {
   "codemirror_mode": {
    "name": "ipython",
    "version": 3
   },
   "file_extension": ".py",
   "mimetype": "text/x-python",
   "name": "python",
   "nbconvert_exporter": "python",
   "pygments_lexer": "ipython3",
   "version": "3.6.7"
  }
 },
 "nbformat": 4,
 "nbformat_minor": 4
}
