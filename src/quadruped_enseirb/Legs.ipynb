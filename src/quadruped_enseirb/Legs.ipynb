{
 "cells": [
  {
   "cell_type": "markdown",
   "id": "fabulous-contemporary",
   "metadata": {},
   "source": [
    "# Pattes dans le repère du robot\n",
    "\n",
    "## Repère du robot\n",
    "\n",
    "Vous savez à présent calculer les angles cibles pour les trois moteurs à partir d'une position cible donnée dans le repère de la patte.\n",
    "\n",
    "Pour pouvoir contrôler les quatre pattes, nous allons avoir besoin de pouvoir travailler dans un système de coordonnée unique: le repère robot.\n",
    "\n",
    "Chaque repère de patte (comme dans la séance [cinématique](Kinematics.ipynb)) est centré sur le premier moteur, orientée de telle manière que la patte longe l'axe $x$ lorsque les moteurs sont en position $0$, et l'axe $z$ est orienté vers le haut.\n",
    "\n",
    "Le repère robot du simulateur est le suivant:\n",
    "\n",
    "<img src=\"img/repere-robot.png\" width=300>\n",
    "\n",
    "Note: on introduit une nouvelle dimension ici ($40mm$) qui sépare les pattes du centre.\n",
    "\n",
    "## Rotation\n",
    "\n",
    "<img src=\"img/rot.png\" width=300>\n",
    "\n",
    "Si on rotate un point de coordonnées $x, y$ autour de l'origine de $\\alpha$ radians (sens trigonométrique), les coordonnées $x', y'$ du point d'arrivée sont données par:\n",
    "\n",
    "$$\n",
    "x' = cos(\\alpha) x - sin(\\alpha) y\n",
    "$$\n",
    "$$\n",
    "y' = sin(\\alpha) x + cos(\\alpha) y\n",
    "$$"
   ]
  },
  {
   "cell_type": "markdown",
   "id": "structured-warren",
   "metadata": {},
   "source": [
    "# Implémentation dans le projet\n",
    "\n",
    "Dans `control.py`, implémentez maintenant la fonction `legs` de manière à pouvoir contrôler la position de toutes les pattes du robot à l'aide des sliders.\n",
    "\n",
    "`python simulator.py -m legs`\n",
    "\n",
    "Les cibles rouges sont les positions à atteindre. Si votre code fonctionne, le bout des pattes sera donc sur la cible rouge correspondante.\n",
    "\n",
    "<img src=\"img/4legs.png\" width=400 />"
   ]
  }
 ],
 "metadata": {
  "kernelspec": {
   "display_name": "Python 3",
   "language": "python",
   "name": "python3"
  },
  "language_info": {
   "codemirror_mode": {
    "name": "ipython",
    "version": 3
   },
   "file_extension": ".py",
   "mimetype": "text/x-python",
   "name": "python",
   "nbconvert_exporter": "python",
   "pygments_lexer": "ipython3",
   "version": "3.6.9"
  }
 },
 "nbformat": 4,
 "nbformat_minor": 5
}
