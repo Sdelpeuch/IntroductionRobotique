{
 "cells": [
  {
   "cell_type": "markdown",
   "metadata": {},
   "source": [
    "# Interpolation linéaire\n",
    "\n",
    "Pour cette partie, nous allons importer une bibliothèque graphique nommée matplotlib qui va nous permettre d'afficher des graphiques:"
   ]
  },
  {
   "cell_type": "code",
   "execution_count": 2,
   "metadata": {},
   "outputs": [],
   "source": [
    "import math\n",
    "import matplotlib.pyplot as pyplot"
   ]
  },
  {
   "cell_type": "markdown",
   "metadata": {},
   "source": [
    "Dans l'étape précédente, nous avons défini la position des moteurs à l'aide de position successives:"
   ]
  },
  {
   "cell_type": "code",
   "execution_count": 3,
   "metadata": {},
   "outputs": [
    {
     "data": {
      "image/png": "[encoded data removed]",
      "text/plain": [
       "<Figure size 432x288 with 1 Axes>"
      ]
     },
     "metadata": {
      "needs_background": "light"
     },
     "output_type": "display_data"
    }
   ],
   "source": [
    "xs = [0, 1.2, 2.5, 3.3, 4.2, 5]\n",
    "ys = [0, 6, -3, 4, -2, 0]\n",
    "pyplot.step(xs, ys, where='post')\n",
    "pyplot.show()"
   ]
  },
  {
   "cell_type": "markdown",
   "metadata": {},
   "source": [
    "Le problème de cette méthode est que le mouvement des moteurs est discontinu. Cela implique des mouvements saccadés. Nous aimerions plutôt des transitions continues, par exemple linéaires:"
   ]
  },
  {
   "cell_type": "code",
   "execution_count": 4,
   "metadata": {},
   "outputs": [
    {
     "data": {
      "image/png": "[encoded data removed]",
      "text/plain": [
       "<Figure size 432x288 with 1 Axes>"
      ]
     },
     "metadata": {
      "needs_background": "light"
     },
     "output_type": "display_data"
    }
   ],
   "source": [
    "xs = [0, 1.2, 2.5, 3.3, 4.2, 5]\n",
    "ys = [0, 6, -3, 4, -2, 0]\n",
    "pyplot.plot(xs, ys)\n",
    "pyplot.show()"
   ]
  },
  {
   "cell_type": "markdown",
   "metadata": {},
   "source": [
    "Pour ce faire, nous proposons d'écrire une fonction Python ``interpolate`` qui prend en paramètre un tableau ``xs``, ``ys`` ainsi qu'une abcisse ``x`` et retourne la position interpolée linéairement correspondant à ``x``.\n",
    "\n",
    "Par exemple, si on utilisais la courbe ci-dessus et que l'on appellais ``interpolate(xs, ys, 0.5)``, la fonction retournerait ``3``. \n",
    "\n",
    "Si ``x`` est plus petit que le premier abcisse, ou plus grand que le dernier, vous retournerez respectivement la première ordonnée ou la dernière."
   ]
  },
  {
   "cell_type": "code",
   "execution_count": 5,
   "metadata": {},
   "outputs": [],
   "source": [
    "def interpolate(xs, ys, x):\n",
    "    return 0"
   ]
  },
  {
   "cell_type": "markdown",
   "metadata": {},
   "source": [
    "Vous pouvez tester votre fonction avec le code ci-dessous, qui l'appellera pour toutes les valeurs par pas de 0.2 avec les points ci-dessus:"
   ]
  },
  {
   "cell_type": "code",
   "execution_count": 6,
   "metadata": {
    "scrolled": true
   },
   "outputs": [
    {
     "data": {
      "image/png": "[encoded data removed]",
      "text/plain": [
       "<Figure size 432x288 with 1 Axes>"
      ]
     },
     "metadata": {
      "needs_background": "light"
     },
     "output_type": "display_data"
    }
   ],
   "source": [
    "xs = [0, 1.2, 2.5, 3.3, 4.2, 5]\n",
    "ys = [0, 6, -3, 4, -2, 0]\n",
    "x_interpoles = []\n",
    "y_interpoles = []\n",
    "x = -1\n",
    "\n",
    "while x < 6:\n",
    "    x_interpoles.append(x)\n",
    "    y_interpoles.append(interpolate(xs, ys, x))\n",
    "    x += 0.2\n",
    "\n",
    "pyplot.scatter(x_interpoles, y_interpoles)\n",
    "pyplot.show()"
   ]
  },
  {
   "cell_type": "markdown",
   "metadata": {},
   "source": [
    "Gardez bien cette fonction, nous la réutiliserons plus tard!"
   ]
  },
  {
   "cell_type": "markdown",
   "metadata": {},
   "source": [
    "# Implémentation dans le projet\n",
    "\n",
    "## Classe `LinearSpline`\n",
    "\n",
    "Ouvrez à présent le dossier `quadruped/` et modifiez le code de la classe `LinearSpline` de manière à ce qu'elle calcule une interpolation.\n",
    "\n",
    "Vous pourrez vous aider du test fourni en exécutant le fichier `python interpolation.py` pour visualiser la sortie de votre classe.\n",
    "\n",
    "## Classe `LinearSpline3D`\n",
    "\n",
    "Ensuite, implémentez également `LinearSpline3D`, en réutilisant `LinearSpline` pour pouvoir interpoler la position d'un point en 3D.\n",
    "\n",
    "Remarque: il suffit en fait d'instancier 3 fois `LinearSpline` pour faire ce calcul :-)\n",
    "\n",
    "## Dessin\n",
    "\n",
    "Enfin, implémentez dans `control.py` la fonction `draw` telle qu'elle dessine un triangle lorsqu'on la lance avec:\n",
    "\n",
    "`python simulator.py -m draw`"
   ]
  }
 ],
 "metadata": {
  "kernelspec": {
   "display_name": "Python 3",
   "language": "python",
   "name": "python3"
  },
  "language_info": {
   "codemirror_mode": {
    "name": "ipython",
    "version": 3
   },
   "file_extension": ".py",
   "mimetype": "text/x-python",
   "name": "python",
   "nbconvert_exporter": "python",
   "pygments_lexer": "ipython3",
   "version": "3.8.5"
  }
 },
 "nbformat": 4,
 "nbformat_minor": 4
}
